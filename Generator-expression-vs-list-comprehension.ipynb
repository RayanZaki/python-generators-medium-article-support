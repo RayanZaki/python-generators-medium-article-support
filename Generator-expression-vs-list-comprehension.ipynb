{
 "cells": [
  {
   "cell_type": "markdown",
   "metadata": {},
   "source": [
    "# Generator Expressions vs List Comprehension \n",
    "Comparaison between the space complexity of Generator Expressions vs List Comprehension "
   ]
  },
  {
   "cell_type": "code",
   "execution_count": 1,
   "metadata": {},
   "outputs": [],
   "source": [
    "from sys import getsizeof \n",
    "# calculates the space consumption \n",
    "# of variables"
   ]
  },
  {
   "cell_type": "code",
   "execution_count": 14,
   "metadata": {},
   "outputs": [],
   "source": [
    "# Initialize variables\n",
    "l = [ i for i in range(10)]\n",
    "g = ( i for i in range(10))"
   ]
  },
  {
   "cell_type": "code",
   "execution_count": 15,
   "metadata": {},
   "outputs": [
    {
     "name": "stdout",
     "output_type": "stream",
     "text": [
      "list: 184\n",
      "list: 112\n"
     ]
    }
   ],
   "source": [
    "print(\"list: \" + str(getsizeof(l)))\n",
    "print(\"list: \" + str(getsizeof(g)))"
   ]
  },
  {
   "cell_type": "markdown",
   "metadata": {},
   "source": [
    "We already have higher space consumption from list"
   ]
  },
  {
   "cell_type": "markdown",
   "metadata": {},
   "source": [
    "Now lets increase the size"
   ]
  },
  {
   "cell_type": "code",
   "execution_count": 18,
   "metadata": {},
   "outputs": [],
   "source": [
    "# Increase the size\n",
    "l = [ i for i in range(10000)]\n",
    "g = ( i for i in range(10000))"
   ]
  },
  {
   "cell_type": "code",
   "execution_count": 19,
   "metadata": {},
   "outputs": [
    {
     "name": "stdout",
     "output_type": "stream",
     "text": [
      "list: 85176\n",
      "list: 112\n"
     ]
    }
   ],
   "source": [
    "print(\"list: \" + str(getsizeof(l)))\n",
    "print(\"list: \" + str(getsizeof(g)))"
   ]
  },
  {
   "attachments": {},
   "cell_type": "markdown",
   "metadata": {},
   "source": [
    "Notice how when we increase in the size of the list, the space increases linearly \n",
    "while with generator it is always 112"
   ]
  },
  {
   "cell_type": "code",
   "execution_count": 20,
   "metadata": {},
   "outputs": [],
   "source": [
    "# library to count infinitly\n",
    "from itertools import count\n"
   ]
  },
  {
   "cell_type": "code",
   "execution_count": 23,
   "metadata": {},
   "outputs": [
    {
     "ename": "KeyboardInterrupt",
     "evalue": "",
     "output_type": "error",
     "traceback": [
      "\u001b[0;31m---------------------------------------------------------------------------\u001b[0m",
      "\u001b[0;31mKeyboardInterrupt\u001b[0m                         Traceback (most recent call last)",
      "\u001b[1;32m/home/rayanzak/Desktop/Learning/python/yields/python-generators-medium-article-support/Generator-expression-vs-list-comprehension.ipynb Cell 11\u001b[0m in \u001b[0;36m2\n\u001b[1;32m      <a href='vscode-notebook-cell:/home/rayanzak/Desktop/Learning/python/yields/python-generators-medium-article-support/Generator-expression-vs-list-comprehension.ipynb#X23sZmlsZQ%3D%3D?line=0'>1</a>\u001b[0m \u001b[39m# initialize l to be infinitly large\u001b[39;00m\n\u001b[0;32m----> <a href='vscode-notebook-cell:/home/rayanzak/Desktop/Learning/python/yields/python-generators-medium-article-support/Generator-expression-vs-list-comprehension.ipynb#X23sZmlsZQ%3D%3D?line=1'>2</a>\u001b[0m l \u001b[39m=\u001b[39m [ i \u001b[39mfor\u001b[39;00m i \u001b[39min\u001b[39;00m count(\u001b[39m1\u001b[39m)]\n",
      "\u001b[1;32m/home/rayanzak/Desktop/Learning/python/yields/python-generators-medium-article-support/Generator-expression-vs-list-comprehension.ipynb Cell 11\u001b[0m in \u001b[0;36m2\n\u001b[1;32m      <a href='vscode-notebook-cell:/home/rayanzak/Desktop/Learning/python/yields/python-generators-medium-article-support/Generator-expression-vs-list-comprehension.ipynb#X23sZmlsZQ%3D%3D?line=0'>1</a>\u001b[0m \u001b[39m# initialize l to be infinitly large\u001b[39;00m\n\u001b[0;32m----> <a href='vscode-notebook-cell:/home/rayanzak/Desktop/Learning/python/yields/python-generators-medium-article-support/Generator-expression-vs-list-comprehension.ipynb#X23sZmlsZQ%3D%3D?line=1'>2</a>\u001b[0m l \u001b[39m=\u001b[39m [ i \u001b[39mfor\u001b[39;00m i \u001b[39min\u001b[39;00m count(\u001b[39m1\u001b[39m)]\n",
      "\u001b[0;31mKeyboardInterrupt\u001b[0m: "
     ]
    }
   ],
   "source": [
    "# initialize l to be infinitly large\n",
    "l = [ i for i in count(1)]\n"
   ]
  },
  {
   "cell_type": "markdown",
   "metadata": {},
   "source": [
    "never stops untill interrupted"
   ]
  },
  {
   "cell_type": "code",
   "execution_count": 27,
   "metadata": {},
   "outputs": [
    {
     "data": {
      "text/plain": [
       "112"
      ]
     },
     "execution_count": 27,
     "metadata": {},
     "output_type": "execute_result"
    }
   ],
   "source": [
    "g = ( i for i in count(1))\n",
    "\n",
    "getsizeof(g)"
   ]
  },
  {
   "cell_type": "markdown",
   "metadata": {},
   "source": [
    "we notice that the size never changes. This proves that the generator only saves one element at a time"
   ]
  }
 ],
 "metadata": {
  "kernelspec": {
   "display_name": "base",
   "language": "python",
   "name": "python3"
  },
  "language_info": {
   "codemirror_mode": {
    "name": "ipython",
    "version": 3
   },
   "file_extension": ".py",
   "mimetype": "text/x-python",
   "name": "python",
   "nbconvert_exporter": "python",
   "pygments_lexer": "ipython3",
   "version": "3.9.12"
  },
  "orig_nbformat": 4
 },
 "nbformat": 4,
 "nbformat_minor": 2
}
