{
 "cells": [
  {
   "attachments": {},
   "cell_type": "markdown",
   "metadata": {},
   "source": [
    "# Generator Function\n",
    "This notebook Will test the Generator Function with `yield` command"
   ]
  },
  {
   "cell_type": "code",
   "execution_count": 3,
   "metadata": {},
   "outputs": [],
   "source": [
    "# Non generator Function\n",
    "# This function will exec the first return each time\n",
    "# The second return is never reached\n",
    "def foo():\n",
    "    return 1\n",
    "    return 2  "
   ]
  },
  {
   "cell_type": "code",
   "execution_count": 4,
   "metadata": {},
   "outputs": [
    {
     "data": {
      "text/plain": [
       "1"
      ]
     },
     "execution_count": 4,
     "metadata": {},
     "output_type": "execute_result"
    }
   ],
   "source": [
    "# Call the function\n",
    "foo()"
   ]
  },
  {
   "attachments": {},
   "cell_type": "markdown",
   "metadata": {},
   "source": [
    "the result shows that the first return gets executed while the second one is out of scope|"
   ]
  },
  {
   "cell_type": "code",
   "execution_count": 5,
   "metadata": {},
   "outputs": [],
   "source": [
    "# Figure 2\n",
    "\n",
    "# Generator function\n",
    "# This function will exec the first yield in the first iteration\n",
    "# and the second yield in the second iteration\n",
    "# Returning a generator object\n",
    "def gen_func():\n",
    "  print(\"yield 1\")\n",
    "  yield 1\n",
    "  print(\"yield 2\")\n",
    "  yield 2\n"
   ]
  },
  {
   "cell_type": "code",
   "execution_count": 6,
   "metadata": {},
   "outputs": [
    {
     "name": "stdout",
     "output_type": "stream",
     "text": [
      "<class 'generator'>\n"
     ]
    }
   ],
   "source": [
    "\n",
    "print(type(gen_func()))"
   ]
  },
  {
   "attachments": {},
   "cell_type": "markdown",
   "metadata": {},
   "source": [
    "Only print up to the first yield"
   ]
  },
  {
   "cell_type": "code",
   "execution_count": 7,
   "metadata": {},
   "outputs": [
    {
     "name": "stdout",
     "output_type": "stream",
     "text": [
      "yield 1\n",
      "1\n"
     ]
    }
   ],
   "source": [
    "print(next(gen_func()))"
   ]
  },
  {
   "cell_type": "code",
   "execution_count": 8,
   "metadata": {},
   "outputs": [
    {
     "name": "stdout",
     "output_type": "stream",
     "text": [
      "yield 1\n",
      "1\n",
      "yield 2\n",
      "2\n"
     ]
    }
   ],
   "source": [
    "\n",
    "# loop over the yields\n",
    "for i in gen_func():\n",
    "  print(i)"
   ]
  },
  {
   "cell_type": "markdown",
   "metadata": {},
   "source": [
    "# Counting infinitly\n",
    "Now lets try to loop infinitly with Generator Functions and with normal functions and check the difference"
   ]
  },
  {
   "cell_type": "code",
   "execution_count": 10,
   "metadata": {},
   "outputs": [],
   "source": [
    "# Function that counts to infinity \n",
    "# then returns the counter\n",
    "# Obviously will never end\n",
    "def count_to_infinity():\n",
    "    count = []\n",
    "    counter = 0\n",
    "    while True:\n",
    "        counter += 1\n",
    "        count.append(counter)\n",
    "    return count"
   ]
  },
  {
   "cell_type": "code",
   "execution_count": 11,
   "metadata": {},
   "outputs": [
    {
     "ename": "KeyboardInterrupt",
     "evalue": "",
     "output_type": "error",
     "traceback": [
      "\u001b[0;31m---------------------------------------------------------------------------\u001b[0m",
      "\u001b[0;31mKeyboardInterrupt\u001b[0m                         Traceback (most recent call last)",
      "\u001b[1;32m/home/rayanzak/Desktop/Learning/python/yields/python-generators-medium-article-support/generator-functions.ipynb Cell 12\u001b[0m in \u001b[0;36m1\n\u001b[0;32m----> <a href='vscode-notebook-cell:/home/rayanzak/Desktop/Learning/python/yields/python-generators-medium-article-support/generator-functions.ipynb#X22sZmlsZQ%3D%3D?line=0'>1</a>\u001b[0m \u001b[39mprint\u001b[39m(count_to_infinity())\n",
      "\u001b[1;32m/home/rayanzak/Desktop/Learning/python/yields/python-generators-medium-article-support/generator-functions.ipynb Cell 12\u001b[0m in \u001b[0;36m9\n\u001b[1;32m      <a href='vscode-notebook-cell:/home/rayanzak/Desktop/Learning/python/yields/python-generators-medium-article-support/generator-functions.ipynb#X22sZmlsZQ%3D%3D?line=6'>7</a>\u001b[0m \u001b[39mwhile\u001b[39;00m \u001b[39mTrue\u001b[39;00m:\n\u001b[1;32m      <a href='vscode-notebook-cell:/home/rayanzak/Desktop/Learning/python/yields/python-generators-medium-article-support/generator-functions.ipynb#X22sZmlsZQ%3D%3D?line=7'>8</a>\u001b[0m     counter \u001b[39m+\u001b[39m\u001b[39m=\u001b[39m \u001b[39m1\u001b[39m\n\u001b[0;32m----> <a href='vscode-notebook-cell:/home/rayanzak/Desktop/Learning/python/yields/python-generators-medium-article-support/generator-functions.ipynb#X22sZmlsZQ%3D%3D?line=8'>9</a>\u001b[0m     count\u001b[39m.\u001b[39;49mappend(counter)\n\u001b[1;32m     <a href='vscode-notebook-cell:/home/rayanzak/Desktop/Learning/python/yields/python-generators-medium-article-support/generator-functions.ipynb#X22sZmlsZQ%3D%3D?line=9'>10</a>\u001b[0m \u001b[39mreturn\u001b[39;00m count\n",
      "\u001b[0;31mKeyboardInterrupt\u001b[0m: "
     ]
    }
   ],
   "source": [
    "print(count_to_infinity())\n"
   ]
  },
  {
   "cell_type": "markdown",
   "metadata": {},
   "source": [
    "The array cant be returned and the program executed infinitly"
   ]
  },
  {
   "cell_type": "code",
   "execution_count": null,
   "metadata": {},
   "outputs": [],
   "source": [
    "# Function that counts to infinity \n",
    "# and returns the counter each step\n",
    "# while still incrementing\n",
    "\n",
    "def count_to_infinity_yield():\n",
    "    count = 0\n",
    "    while True:\n",
    "        count += 1\n",
    "        yield count\n",
    "\n",
    "natural_numbers = count_to_infiniry_yield()\n",
    "\n",
    "# access the first iterator\n",
    "print(next(natural_numbers))\n",
    "# 1"
   ]
  }
 ],
 "metadata": {
  "kernelspec": {
   "display_name": "base",
   "language": "python",
   "name": "python3"
  },
  "language_info": {
   "codemirror_mode": {
    "name": "ipython",
    "version": 3
   },
   "file_extension": ".py",
   "mimetype": "text/x-python",
   "name": "python",
   "nbconvert_exporter": "python",
   "pygments_lexer": "ipython3",
   "version": "3.9.12"
  },
  "orig_nbformat": 4
 },
 "nbformat": 4,
 "nbformat_minor": 2
}
